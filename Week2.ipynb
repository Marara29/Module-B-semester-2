{
 "cells": [
  {
   "cell_type": "markdown",
   "id": "5190b54c-d49c-4d6f-80cc-22555336a9cd",
   "metadata": {},
   "source": [
    "# Week 2 - Preprocessing, part 2\n",
    "\n",
    "# 1. Lesson: None"
   ]
  },
  {
   "cell_type": "markdown",
   "id": "47c4e5ff-b05f-4ef2-96f1-49dcb5beb158",
   "metadata": {},
   "source": [
    "# 2. Weekly graph question"
   ]
  },
  {
   "cell_type": "markdown",
   "id": "aad37e29-6e84-41fa-886d-abc1312213ab",
   "metadata": {},
   "source": [
    "The Storytelling With Data book mentions planning on a \"Who, What, and How\" for your data story.  Write down a possible Who, What, and How for your data, using the ideas in the book."
   ]
  },
  {
   "cell_type": "markdown",
   "id": "775b687d",
   "metadata": {},
   "source": [
    "who would be the studio executives,stakeholders, data scientist or anybody who is interested in understanding box office trends for informed decisions about future release,marketing etc \n",
    "what : the dataset is about movie box office trends from 2000 to 2024 show how certain genres and release timings consistently drive revenue\n",
    "how:I'll use visual explanation to explore some trends and communicate my insights"
   ]
  },
  {
   "cell_type": "markdown",
   "id": "c0642db3",
   "metadata": {},
   "source": [
    "Movies Box office Dataset (2000-2024)\n",
    "\n",
    "https://www.kaggle.com/datasets/aditya126/movies-box-office-dataset-2000-2024"
   ]
  },
  {
   "cell_type": "markdown",
   "id": "898eb327-aefd-4ac0-b95a-92b616a2181b",
   "metadata": {},
   "source": [
    "# 3. Homework - work with your own data"
   ]
  },
  {
   "cell_type": "code",
   "execution_count": 63,
   "id": "fe925521-979f-4983-8d85-8db8d1316e99",
   "metadata": {},
   "outputs": [],
   "source": [
    "import pandas as pd\n",
    "import numpy as np\n",
    "from datetime import datetime, timedelta\n",
    "import matplotlib.pyplot as plt"
   ]
  },
  {
   "cell_type": "markdown",
   "id": "14836788-b235-4cd4-b94d-5f749c6141a8",
   "metadata": {},
   "source": [
    "This week, you will do the same types of exercises as last week, but you should use your chosen datasets that someone in your class found last semester. (They likely will not be the particular datasets that you found yourself.)\n",
    "\n",
    "### Here are some types of analysis you can do  Use Google, documentation, and ChatGPT to help you:\n",
    "\n",
    "- Summarize the datasets using info() and describe()\n",
    "\n",
    "- Are there any duplicate rows?\n",
    "\n",
    "- Are there any duplicate values in a given column (when this would be inappropriate?)\n",
    "\n",
    "- What are the mean, median, and mode of each column?\n",
    "\n",
    "- Are there any missing or null values?\n",
    "\n",
    "    - Do you want to fill in the missing value with a mean value?  A value of your choice?  Remove that row?\n",
    "\n",
    "- Identify any other inconsistent data (e.g. someone seems to be taking an action before they are born.)\n",
    "\n",
    "- Encode any categorical variables (e.g. with one-hot encoding.)\n",
    "\n",
    "### Conclusions:\n",
    "\n",
    "- Are the data usable?  If not, find some new data!\n",
    "\n",
    "- Do you need to modify or correct the data in some way?\n",
    "\n",
    "- Is there any class imbalance?  (Categories that have many more items than other categories)."
   ]
  },
  {
   "cell_type": "code",
   "execution_count": 64,
   "id": "53defc6e",
   "metadata": {},
   "outputs": [
    {
     "ename": "HTTPError",
     "evalue": "HTTP Error 404: Not Found",
     "output_type": "error",
     "traceback": [
      "\u001b[31m---------------------------------------------------------------------------\u001b[39m",
      "\u001b[31mHTTPError\u001b[39m                                 Traceback (most recent call last)",
      "\u001b[36mCell\u001b[39m\u001b[36m \u001b[39m\u001b[32mIn[64]\u001b[39m\u001b[32m, line 1\u001b[39m\n\u001b[32m----> \u001b[39m\u001b[32m1\u001b[39m df_movies = \u001b[43mpd\u001b[49m\u001b[43m.\u001b[49m\u001b[43mread_csv\u001b[49m\u001b[43m(\u001b[49m\u001b[33;43m\"\u001b[39;49m\u001b[33;43mhttps://raw.githubusercontent.com/Marara29/Boston-University-Activities/refs/heads/main/enhanced_box_office_data(2000-2024)u.csv?token=GHSAT0AAAAAAC57Y4SX3CGCKN42IUHQ35NI2CLZM5Q\u001b[39;49m\u001b[33;43m\"\u001b[39;49m\u001b[43m)\u001b[49m\n",
      "\u001b[36mFile \u001b[39m\u001b[32m~/.local/lib/python3.12/site-packages/pandas/io/parsers/readers.py:1026\u001b[39m, in \u001b[36mread_csv\u001b[39m\u001b[34m(filepath_or_buffer, sep, delimiter, header, names, index_col, usecols, dtype, engine, converters, true_values, false_values, skipinitialspace, skiprows, skipfooter, nrows, na_values, keep_default_na, na_filter, verbose, skip_blank_lines, parse_dates, infer_datetime_format, keep_date_col, date_parser, date_format, dayfirst, cache_dates, iterator, chunksize, compression, thousands, decimal, lineterminator, quotechar, quoting, doublequote, escapechar, comment, encoding, encoding_errors, dialect, on_bad_lines, delim_whitespace, low_memory, memory_map, float_precision, storage_options, dtype_backend)\u001b[39m\n\u001b[32m   1013\u001b[39m kwds_defaults = _refine_defaults_read(\n\u001b[32m   1014\u001b[39m     dialect,\n\u001b[32m   1015\u001b[39m     delimiter,\n\u001b[32m   (...)\u001b[39m\u001b[32m   1022\u001b[39m     dtype_backend=dtype_backend,\n\u001b[32m   1023\u001b[39m )\n\u001b[32m   1024\u001b[39m kwds.update(kwds_defaults)\n\u001b[32m-> \u001b[39m\u001b[32m1026\u001b[39m \u001b[38;5;28;01mreturn\u001b[39;00m \u001b[43m_read\u001b[49m\u001b[43m(\u001b[49m\u001b[43mfilepath_or_buffer\u001b[49m\u001b[43m,\u001b[49m\u001b[43m \u001b[49m\u001b[43mkwds\u001b[49m\u001b[43m)\u001b[49m\n",
      "\u001b[36mFile \u001b[39m\u001b[32m~/.local/lib/python3.12/site-packages/pandas/io/parsers/readers.py:620\u001b[39m, in \u001b[36m_read\u001b[39m\u001b[34m(filepath_or_buffer, kwds)\u001b[39m\n\u001b[32m    617\u001b[39m _validate_names(kwds.get(\u001b[33m\"\u001b[39m\u001b[33mnames\u001b[39m\u001b[33m\"\u001b[39m, \u001b[38;5;28;01mNone\u001b[39;00m))\n\u001b[32m    619\u001b[39m \u001b[38;5;66;03m# Create the parser.\u001b[39;00m\n\u001b[32m--> \u001b[39m\u001b[32m620\u001b[39m parser = \u001b[43mTextFileReader\u001b[49m\u001b[43m(\u001b[49m\u001b[43mfilepath_or_buffer\u001b[49m\u001b[43m,\u001b[49m\u001b[43m \u001b[49m\u001b[43m*\u001b[49m\u001b[43m*\u001b[49m\u001b[43mkwds\u001b[49m\u001b[43m)\u001b[49m\n\u001b[32m    622\u001b[39m \u001b[38;5;28;01mif\u001b[39;00m chunksize \u001b[38;5;129;01mor\u001b[39;00m iterator:\n\u001b[32m    623\u001b[39m     \u001b[38;5;28;01mreturn\u001b[39;00m parser\n",
      "\u001b[36mFile \u001b[39m\u001b[32m~/.local/lib/python3.12/site-packages/pandas/io/parsers/readers.py:1620\u001b[39m, in \u001b[36mTextFileReader.__init__\u001b[39m\u001b[34m(self, f, engine, **kwds)\u001b[39m\n\u001b[32m   1617\u001b[39m     \u001b[38;5;28mself\u001b[39m.options[\u001b[33m\"\u001b[39m\u001b[33mhas_index_names\u001b[39m\u001b[33m\"\u001b[39m] = kwds[\u001b[33m\"\u001b[39m\u001b[33mhas_index_names\u001b[39m\u001b[33m\"\u001b[39m]\n\u001b[32m   1619\u001b[39m \u001b[38;5;28mself\u001b[39m.handles: IOHandles | \u001b[38;5;28;01mNone\u001b[39;00m = \u001b[38;5;28;01mNone\u001b[39;00m\n\u001b[32m-> \u001b[39m\u001b[32m1620\u001b[39m \u001b[38;5;28mself\u001b[39m._engine = \u001b[38;5;28;43mself\u001b[39;49m\u001b[43m.\u001b[49m\u001b[43m_make_engine\u001b[49m\u001b[43m(\u001b[49m\u001b[43mf\u001b[49m\u001b[43m,\u001b[49m\u001b[43m \u001b[49m\u001b[38;5;28;43mself\u001b[39;49m\u001b[43m.\u001b[49m\u001b[43mengine\u001b[49m\u001b[43m)\u001b[49m\n",
      "\u001b[36mFile \u001b[39m\u001b[32m~/.local/lib/python3.12/site-packages/pandas/io/parsers/readers.py:1880\u001b[39m, in \u001b[36mTextFileReader._make_engine\u001b[39m\u001b[34m(self, f, engine)\u001b[39m\n\u001b[32m   1878\u001b[39m     \u001b[38;5;28;01mif\u001b[39;00m \u001b[33m\"\u001b[39m\u001b[33mb\u001b[39m\u001b[33m\"\u001b[39m \u001b[38;5;129;01mnot\u001b[39;00m \u001b[38;5;129;01min\u001b[39;00m mode:\n\u001b[32m   1879\u001b[39m         mode += \u001b[33m\"\u001b[39m\u001b[33mb\u001b[39m\u001b[33m\"\u001b[39m\n\u001b[32m-> \u001b[39m\u001b[32m1880\u001b[39m \u001b[38;5;28mself\u001b[39m.handles = \u001b[43mget_handle\u001b[49m\u001b[43m(\u001b[49m\n\u001b[32m   1881\u001b[39m \u001b[43m    \u001b[49m\u001b[43mf\u001b[49m\u001b[43m,\u001b[49m\n\u001b[32m   1882\u001b[39m \u001b[43m    \u001b[49m\u001b[43mmode\u001b[49m\u001b[43m,\u001b[49m\n\u001b[32m   1883\u001b[39m \u001b[43m    \u001b[49m\u001b[43mencoding\u001b[49m\u001b[43m=\u001b[49m\u001b[38;5;28;43mself\u001b[39;49m\u001b[43m.\u001b[49m\u001b[43moptions\u001b[49m\u001b[43m.\u001b[49m\u001b[43mget\u001b[49m\u001b[43m(\u001b[49m\u001b[33;43m\"\u001b[39;49m\u001b[33;43mencoding\u001b[39;49m\u001b[33;43m\"\u001b[39;49m\u001b[43m,\u001b[49m\u001b[43m \u001b[49m\u001b[38;5;28;43;01mNone\u001b[39;49;00m\u001b[43m)\u001b[49m\u001b[43m,\u001b[49m\n\u001b[32m   1884\u001b[39m \u001b[43m    \u001b[49m\u001b[43mcompression\u001b[49m\u001b[43m=\u001b[49m\u001b[38;5;28;43mself\u001b[39;49m\u001b[43m.\u001b[49m\u001b[43moptions\u001b[49m\u001b[43m.\u001b[49m\u001b[43mget\u001b[49m\u001b[43m(\u001b[49m\u001b[33;43m\"\u001b[39;49m\u001b[33;43mcompression\u001b[39;49m\u001b[33;43m\"\u001b[39;49m\u001b[43m,\u001b[49m\u001b[43m \u001b[49m\u001b[38;5;28;43;01mNone\u001b[39;49;00m\u001b[43m)\u001b[49m\u001b[43m,\u001b[49m\n\u001b[32m   1885\u001b[39m \u001b[43m    \u001b[49m\u001b[43mmemory_map\u001b[49m\u001b[43m=\u001b[49m\u001b[38;5;28;43mself\u001b[39;49m\u001b[43m.\u001b[49m\u001b[43moptions\u001b[49m\u001b[43m.\u001b[49m\u001b[43mget\u001b[49m\u001b[43m(\u001b[49m\u001b[33;43m\"\u001b[39;49m\u001b[33;43mmemory_map\u001b[39;49m\u001b[33;43m\"\u001b[39;49m\u001b[43m,\u001b[49m\u001b[43m \u001b[49m\u001b[38;5;28;43;01mFalse\u001b[39;49;00m\u001b[43m)\u001b[49m\u001b[43m,\u001b[49m\n\u001b[32m   1886\u001b[39m \u001b[43m    \u001b[49m\u001b[43mis_text\u001b[49m\u001b[43m=\u001b[49m\u001b[43mis_text\u001b[49m\u001b[43m,\u001b[49m\n\u001b[32m   1887\u001b[39m \u001b[43m    \u001b[49m\u001b[43merrors\u001b[49m\u001b[43m=\u001b[49m\u001b[38;5;28;43mself\u001b[39;49m\u001b[43m.\u001b[49m\u001b[43moptions\u001b[49m\u001b[43m.\u001b[49m\u001b[43mget\u001b[49m\u001b[43m(\u001b[49m\u001b[33;43m\"\u001b[39;49m\u001b[33;43mencoding_errors\u001b[39;49m\u001b[33;43m\"\u001b[39;49m\u001b[43m,\u001b[49m\u001b[43m \u001b[49m\u001b[33;43m\"\u001b[39;49m\u001b[33;43mstrict\u001b[39;49m\u001b[33;43m\"\u001b[39;49m\u001b[43m)\u001b[49m\u001b[43m,\u001b[49m\n\u001b[32m   1888\u001b[39m \u001b[43m    \u001b[49m\u001b[43mstorage_options\u001b[49m\u001b[43m=\u001b[49m\u001b[38;5;28;43mself\u001b[39;49m\u001b[43m.\u001b[49m\u001b[43moptions\u001b[49m\u001b[43m.\u001b[49m\u001b[43mget\u001b[49m\u001b[43m(\u001b[49m\u001b[33;43m\"\u001b[39;49m\u001b[33;43mstorage_options\u001b[39;49m\u001b[33;43m\"\u001b[39;49m\u001b[43m,\u001b[49m\u001b[43m \u001b[49m\u001b[38;5;28;43;01mNone\u001b[39;49;00m\u001b[43m)\u001b[49m\u001b[43m,\u001b[49m\n\u001b[32m   1889\u001b[39m \u001b[43m\u001b[49m\u001b[43m)\u001b[49m\n\u001b[32m   1890\u001b[39m \u001b[38;5;28;01massert\u001b[39;00m \u001b[38;5;28mself\u001b[39m.handles \u001b[38;5;129;01mis\u001b[39;00m \u001b[38;5;129;01mnot\u001b[39;00m \u001b[38;5;28;01mNone\u001b[39;00m\n\u001b[32m   1891\u001b[39m f = \u001b[38;5;28mself\u001b[39m.handles.handle\n",
      "\u001b[36mFile \u001b[39m\u001b[32m~/.local/lib/python3.12/site-packages/pandas/io/common.py:728\u001b[39m, in \u001b[36mget_handle\u001b[39m\u001b[34m(path_or_buf, mode, encoding, compression, memory_map, is_text, errors, storage_options)\u001b[39m\n\u001b[32m    725\u001b[39m     codecs.lookup_error(errors)\n\u001b[32m    727\u001b[39m \u001b[38;5;66;03m# open URLs\u001b[39;00m\n\u001b[32m--> \u001b[39m\u001b[32m728\u001b[39m ioargs = \u001b[43m_get_filepath_or_buffer\u001b[49m\u001b[43m(\u001b[49m\n\u001b[32m    729\u001b[39m \u001b[43m    \u001b[49m\u001b[43mpath_or_buf\u001b[49m\u001b[43m,\u001b[49m\n\u001b[32m    730\u001b[39m \u001b[43m    \u001b[49m\u001b[43mencoding\u001b[49m\u001b[43m=\u001b[49m\u001b[43mencoding\u001b[49m\u001b[43m,\u001b[49m\n\u001b[32m    731\u001b[39m \u001b[43m    \u001b[49m\u001b[43mcompression\u001b[49m\u001b[43m=\u001b[49m\u001b[43mcompression\u001b[49m\u001b[43m,\u001b[49m\n\u001b[32m    732\u001b[39m \u001b[43m    \u001b[49m\u001b[43mmode\u001b[49m\u001b[43m=\u001b[49m\u001b[43mmode\u001b[49m\u001b[43m,\u001b[49m\n\u001b[32m    733\u001b[39m \u001b[43m    \u001b[49m\u001b[43mstorage_options\u001b[49m\u001b[43m=\u001b[49m\u001b[43mstorage_options\u001b[49m\u001b[43m,\u001b[49m\n\u001b[32m    734\u001b[39m \u001b[43m\u001b[49m\u001b[43m)\u001b[49m\n\u001b[32m    736\u001b[39m handle = ioargs.filepath_or_buffer\n\u001b[32m    737\u001b[39m handles: \u001b[38;5;28mlist\u001b[39m[BaseBuffer]\n",
      "\u001b[36mFile \u001b[39m\u001b[32m~/.local/lib/python3.12/site-packages/pandas/io/common.py:384\u001b[39m, in \u001b[36m_get_filepath_or_buffer\u001b[39m\u001b[34m(filepath_or_buffer, encoding, compression, mode, storage_options)\u001b[39m\n\u001b[32m    382\u001b[39m \u001b[38;5;66;03m# assuming storage_options is to be interpreted as headers\u001b[39;00m\n\u001b[32m    383\u001b[39m req_info = urllib.request.Request(filepath_or_buffer, headers=storage_options)\n\u001b[32m--> \u001b[39m\u001b[32m384\u001b[39m \u001b[38;5;28;01mwith\u001b[39;00m \u001b[43murlopen\u001b[49m\u001b[43m(\u001b[49m\u001b[43mreq_info\u001b[49m\u001b[43m)\u001b[49m \u001b[38;5;28;01mas\u001b[39;00m req:\n\u001b[32m    385\u001b[39m     content_encoding = req.headers.get(\u001b[33m\"\u001b[39m\u001b[33mContent-Encoding\u001b[39m\u001b[33m\"\u001b[39m, \u001b[38;5;28;01mNone\u001b[39;00m)\n\u001b[32m    386\u001b[39m     \u001b[38;5;28;01mif\u001b[39;00m content_encoding == \u001b[33m\"\u001b[39m\u001b[33mgzip\u001b[39m\u001b[33m\"\u001b[39m:\n\u001b[32m    387\u001b[39m         \u001b[38;5;66;03m# Override compression based on Content-Encoding header\u001b[39;00m\n",
      "\u001b[36mFile \u001b[39m\u001b[32m~/.local/lib/python3.12/site-packages/pandas/io/common.py:289\u001b[39m, in \u001b[36murlopen\u001b[39m\u001b[34m(*args, **kwargs)\u001b[39m\n\u001b[32m    283\u001b[39m \u001b[38;5;250m\u001b[39m\u001b[33;03m\"\"\"\u001b[39;00m\n\u001b[32m    284\u001b[39m \u001b[33;03mLazy-import wrapper for stdlib urlopen, as that imports a big chunk of\u001b[39;00m\n\u001b[32m    285\u001b[39m \u001b[33;03mthe stdlib.\u001b[39;00m\n\u001b[32m    286\u001b[39m \u001b[33;03m\"\"\"\u001b[39;00m\n\u001b[32m    287\u001b[39m \u001b[38;5;28;01mimport\u001b[39;00m\u001b[38;5;250m \u001b[39m\u001b[34;01murllib\u001b[39;00m\u001b[34;01m.\u001b[39;00m\u001b[34;01mrequest\u001b[39;00m\n\u001b[32m--> \u001b[39m\u001b[32m289\u001b[39m \u001b[38;5;28;01mreturn\u001b[39;00m \u001b[43murllib\u001b[49m\u001b[43m.\u001b[49m\u001b[43mrequest\u001b[49m\u001b[43m.\u001b[49m\u001b[43murlopen\u001b[49m\u001b[43m(\u001b[49m\u001b[43m*\u001b[49m\u001b[43margs\u001b[49m\u001b[43m,\u001b[49m\u001b[43m \u001b[49m\u001b[43m*\u001b[49m\u001b[43m*\u001b[49m\u001b[43mkwargs\u001b[49m\u001b[43m)\u001b[49m\n",
      "\u001b[36mFile \u001b[39m\u001b[32m/usr/local/python/3.12.1/lib/python3.12/urllib/request.py:215\u001b[39m, in \u001b[36murlopen\u001b[39m\u001b[34m(url, data, timeout, cafile, capath, cadefault, context)\u001b[39m\n\u001b[32m    213\u001b[39m \u001b[38;5;28;01melse\u001b[39;00m:\n\u001b[32m    214\u001b[39m     opener = _opener\n\u001b[32m--> \u001b[39m\u001b[32m215\u001b[39m \u001b[38;5;28;01mreturn\u001b[39;00m \u001b[43mopener\u001b[49m\u001b[43m.\u001b[49m\u001b[43mopen\u001b[49m\u001b[43m(\u001b[49m\u001b[43murl\u001b[49m\u001b[43m,\u001b[49m\u001b[43m \u001b[49m\u001b[43mdata\u001b[49m\u001b[43m,\u001b[49m\u001b[43m \u001b[49m\u001b[43mtimeout\u001b[49m\u001b[43m)\u001b[49m\n",
      "\u001b[36mFile \u001b[39m\u001b[32m/usr/local/python/3.12.1/lib/python3.12/urllib/request.py:521\u001b[39m, in \u001b[36mOpenerDirector.open\u001b[39m\u001b[34m(self, fullurl, data, timeout)\u001b[39m\n\u001b[32m    519\u001b[39m \u001b[38;5;28;01mfor\u001b[39;00m processor \u001b[38;5;129;01min\u001b[39;00m \u001b[38;5;28mself\u001b[39m.process_response.get(protocol, []):\n\u001b[32m    520\u001b[39m     meth = \u001b[38;5;28mgetattr\u001b[39m(processor, meth_name)\n\u001b[32m--> \u001b[39m\u001b[32m521\u001b[39m     response = \u001b[43mmeth\u001b[49m\u001b[43m(\u001b[49m\u001b[43mreq\u001b[49m\u001b[43m,\u001b[49m\u001b[43m \u001b[49m\u001b[43mresponse\u001b[49m\u001b[43m)\u001b[49m\n\u001b[32m    523\u001b[39m \u001b[38;5;28;01mreturn\u001b[39;00m response\n",
      "\u001b[36mFile \u001b[39m\u001b[32m/usr/local/python/3.12.1/lib/python3.12/urllib/request.py:630\u001b[39m, in \u001b[36mHTTPErrorProcessor.http_response\u001b[39m\u001b[34m(self, request, response)\u001b[39m\n\u001b[32m    627\u001b[39m \u001b[38;5;66;03m# According to RFC 2616, \"2xx\" code indicates that the client's\u001b[39;00m\n\u001b[32m    628\u001b[39m \u001b[38;5;66;03m# request was successfully received, understood, and accepted.\u001b[39;00m\n\u001b[32m    629\u001b[39m \u001b[38;5;28;01mif\u001b[39;00m \u001b[38;5;129;01mnot\u001b[39;00m (\u001b[32m200\u001b[39m <= code < \u001b[32m300\u001b[39m):\n\u001b[32m--> \u001b[39m\u001b[32m630\u001b[39m     response = \u001b[38;5;28;43mself\u001b[39;49m\u001b[43m.\u001b[49m\u001b[43mparent\u001b[49m\u001b[43m.\u001b[49m\u001b[43merror\u001b[49m\u001b[43m(\u001b[49m\n\u001b[32m    631\u001b[39m \u001b[43m        \u001b[49m\u001b[33;43m'\u001b[39;49m\u001b[33;43mhttp\u001b[39;49m\u001b[33;43m'\u001b[39;49m\u001b[43m,\u001b[49m\u001b[43m \u001b[49m\u001b[43mrequest\u001b[49m\u001b[43m,\u001b[49m\u001b[43m \u001b[49m\u001b[43mresponse\u001b[49m\u001b[43m,\u001b[49m\u001b[43m \u001b[49m\u001b[43mcode\u001b[49m\u001b[43m,\u001b[49m\u001b[43m \u001b[49m\u001b[43mmsg\u001b[49m\u001b[43m,\u001b[49m\u001b[43m \u001b[49m\u001b[43mhdrs\u001b[49m\u001b[43m)\u001b[49m\n\u001b[32m    633\u001b[39m \u001b[38;5;28;01mreturn\u001b[39;00m response\n",
      "\u001b[36mFile \u001b[39m\u001b[32m/usr/local/python/3.12.1/lib/python3.12/urllib/request.py:559\u001b[39m, in \u001b[36mOpenerDirector.error\u001b[39m\u001b[34m(self, proto, *args)\u001b[39m\n\u001b[32m    557\u001b[39m \u001b[38;5;28;01mif\u001b[39;00m http_err:\n\u001b[32m    558\u001b[39m     args = (\u001b[38;5;28mdict\u001b[39m, \u001b[33m'\u001b[39m\u001b[33mdefault\u001b[39m\u001b[33m'\u001b[39m, \u001b[33m'\u001b[39m\u001b[33mhttp_error_default\u001b[39m\u001b[33m'\u001b[39m) + orig_args\n\u001b[32m--> \u001b[39m\u001b[32m559\u001b[39m     \u001b[38;5;28;01mreturn\u001b[39;00m \u001b[38;5;28;43mself\u001b[39;49m\u001b[43m.\u001b[49m\u001b[43m_call_chain\u001b[49m\u001b[43m(\u001b[49m\u001b[43m*\u001b[49m\u001b[43margs\u001b[49m\u001b[43m)\u001b[49m\n",
      "\u001b[36mFile \u001b[39m\u001b[32m/usr/local/python/3.12.1/lib/python3.12/urllib/request.py:492\u001b[39m, in \u001b[36mOpenerDirector._call_chain\u001b[39m\u001b[34m(self, chain, kind, meth_name, *args)\u001b[39m\n\u001b[32m    490\u001b[39m \u001b[38;5;28;01mfor\u001b[39;00m handler \u001b[38;5;129;01min\u001b[39;00m handlers:\n\u001b[32m    491\u001b[39m     func = \u001b[38;5;28mgetattr\u001b[39m(handler, meth_name)\n\u001b[32m--> \u001b[39m\u001b[32m492\u001b[39m     result = \u001b[43mfunc\u001b[49m\u001b[43m(\u001b[49m\u001b[43m*\u001b[49m\u001b[43margs\u001b[49m\u001b[43m)\u001b[49m\n\u001b[32m    493\u001b[39m     \u001b[38;5;28;01mif\u001b[39;00m result \u001b[38;5;129;01mis\u001b[39;00m \u001b[38;5;129;01mnot\u001b[39;00m \u001b[38;5;28;01mNone\u001b[39;00m:\n\u001b[32m    494\u001b[39m         \u001b[38;5;28;01mreturn\u001b[39;00m result\n",
      "\u001b[36mFile \u001b[39m\u001b[32m/usr/local/python/3.12.1/lib/python3.12/urllib/request.py:639\u001b[39m, in \u001b[36mHTTPDefaultErrorHandler.http_error_default\u001b[39m\u001b[34m(self, req, fp, code, msg, hdrs)\u001b[39m\n\u001b[32m    638\u001b[39m \u001b[38;5;28;01mdef\u001b[39;00m\u001b[38;5;250m \u001b[39m\u001b[34mhttp_error_default\u001b[39m(\u001b[38;5;28mself\u001b[39m, req, fp, code, msg, hdrs):\n\u001b[32m--> \u001b[39m\u001b[32m639\u001b[39m     \u001b[38;5;28;01mraise\u001b[39;00m HTTPError(req.full_url, code, msg, hdrs, fp)\n",
      "\u001b[31mHTTPError\u001b[39m: HTTP Error 404: Not Found"
     ]
    }
   ],
   "source": [
    "df_movies = pd.read_csv(\"https://raw.githubusercontent.com/Marara29/Boston-University-Activities/refs/heads/main/enhanced_box_office_data(2000-2024)u.csv?token=GHSAT0AAAAAAC57Y4SX3CGCKN42IUHQ35NI2CLZM5Q\")"
   ]
  },
  {
   "cell_type": "markdown",
   "id": "200ad4fe",
   "metadata": {},
   "source": [
    "# Summarize the datasets using info() and describe()"
   ]
  },
  {
   "cell_type": "code",
   "execution_count": null,
   "id": "7cae691b",
   "metadata": {},
   "outputs": [
    {
     "name": "stdout",
     "output_type": "stream",
     "text": [
      "<class 'pandas.core.frame.DataFrame'>\n",
      "RangeIndex: 5000 entries, 0 to 4999\n",
      "Data columns (total 13 columns):\n",
      " #   Column                Non-Null Count  Dtype  \n",
      "---  ------                --------------  -----  \n",
      " 0   Rank                  5000 non-null   int64  \n",
      " 1   Release Group         5000 non-null   object \n",
      " 2   $Worldwide            5000 non-null   float64\n",
      " 3   $Domestic             5000 non-null   float64\n",
      " 4   Domestic %            5000 non-null   float64\n",
      " 5   $Foreign              5000 non-null   float64\n",
      " 6   Foreign %             5000 non-null   float64\n",
      " 7   Year                  5000 non-null   int64  \n",
      " 8   Genres                4822 non-null   object \n",
      " 9   Rating                4830 non-null   object \n",
      " 10  Vote_Count            4830 non-null   float64\n",
      " 11  Original_Language     4830 non-null   object \n",
      " 12  Production_Countries  4800 non-null   object \n",
      "dtypes: float64(6), int64(2), object(5)\n",
      "memory usage: 507.9+ KB\n"
     ]
    }
   ],
   "source": [
    "df_movies.info()"
   ]
  },
  {
   "cell_type": "code",
   "execution_count": null,
   "id": "27837178",
   "metadata": {},
   "outputs": [
    {
     "data": {
      "text/html": [
       "<div>\n",
       "<style scoped>\n",
       "    .dataframe tbody tr th:only-of-type {\n",
       "        vertical-align: middle;\n",
       "    }\n",
       "\n",
       "    .dataframe tbody tr th {\n",
       "        vertical-align: top;\n",
       "    }\n",
       "\n",
       "    .dataframe thead th {\n",
       "        text-align: right;\n",
       "    }\n",
       "</style>\n",
       "<table border=\"1\" class=\"dataframe\">\n",
       "  <thead>\n",
       "    <tr style=\"text-align: right;\">\n",
       "      <th></th>\n",
       "      <th>Rank</th>\n",
       "      <th>Release Group</th>\n",
       "      <th>$Worldwide</th>\n",
       "      <th>$Domestic</th>\n",
       "      <th>Domestic %</th>\n",
       "      <th>$Foreign</th>\n",
       "      <th>Foreign %</th>\n",
       "      <th>Year</th>\n",
       "      <th>Genres</th>\n",
       "      <th>Rating</th>\n",
       "      <th>Vote_Count</th>\n",
       "      <th>Original_Language</th>\n",
       "      <th>Production_Countries</th>\n",
       "    </tr>\n",
       "  </thead>\n",
       "  <tbody>\n",
       "    <tr>\n",
       "      <th>count</th>\n",
       "      <td>5000.00000</td>\n",
       "      <td>5000</td>\n",
       "      <td>5.000000e+03</td>\n",
       "      <td>5.000000e+03</td>\n",
       "      <td>5000.000000</td>\n",
       "      <td>5.000000e+03</td>\n",
       "      <td>5000.000000</td>\n",
       "      <td>5000.000000</td>\n",
       "      <td>4822</td>\n",
       "      <td>4830</td>\n",
       "      <td>4830.000000</td>\n",
       "      <td>4830</td>\n",
       "      <td>4800</td>\n",
       "    </tr>\n",
       "    <tr>\n",
       "      <th>unique</th>\n",
       "      <td>NaN</td>\n",
       "      <td>4955</td>\n",
       "      <td>NaN</td>\n",
       "      <td>NaN</td>\n",
       "      <td>NaN</td>\n",
       "      <td>NaN</td>\n",
       "      <td>NaN</td>\n",
       "      <td>NaN</td>\n",
       "      <td>1317</td>\n",
       "      <td>1829</td>\n",
       "      <td>NaN</td>\n",
       "      <td>35</td>\n",
       "      <td>510</td>\n",
       "    </tr>\n",
       "    <tr>\n",
       "      <th>top</th>\n",
       "      <td>NaN</td>\n",
       "      <td>Hero</td>\n",
       "      <td>NaN</td>\n",
       "      <td>NaN</td>\n",
       "      <td>NaN</td>\n",
       "      <td>NaN</td>\n",
       "      <td>NaN</td>\n",
       "      <td>NaN</td>\n",
       "      <td>Comedy</td>\n",
       "      <td>6.5/10</td>\n",
       "      <td>NaN</td>\n",
       "      <td>en</td>\n",
       "      <td>United States of America</td>\n",
       "    </tr>\n",
       "    <tr>\n",
       "      <th>freq</th>\n",
       "      <td>NaN</td>\n",
       "      <td>4</td>\n",
       "      <td>NaN</td>\n",
       "      <td>NaN</td>\n",
       "      <td>NaN</td>\n",
       "      <td>NaN</td>\n",
       "      <td>NaN</td>\n",
       "      <td>NaN</td>\n",
       "      <td>286</td>\n",
       "      <td>102</td>\n",
       "      <td>NaN</td>\n",
       "      <td>3271</td>\n",
       "      <td>1964</td>\n",
       "    </tr>\n",
       "    <tr>\n",
       "      <th>mean</th>\n",
       "      <td>100.50000</td>\n",
       "      <td>NaN</td>\n",
       "      <td>1.192137e+08</td>\n",
       "      <td>4.472523e+07</td>\n",
       "      <td>35.740620</td>\n",
       "      <td>7.448809e+07</td>\n",
       "      <td>64.256640</td>\n",
       "      <td>2012.000000</td>\n",
       "      <td>NaN</td>\n",
       "      <td>NaN</td>\n",
       "      <td>2531.585921</td>\n",
       "      <td>NaN</td>\n",
       "      <td>NaN</td>\n",
       "    </tr>\n",
       "    <tr>\n",
       "      <th>std</th>\n",
       "      <td>57.74008</td>\n",
       "      <td>NaN</td>\n",
       "      <td>2.005243e+08</td>\n",
       "      <td>7.727026e+07</td>\n",
       "      <td>30.656992</td>\n",
       "      <td>1.334932e+08</td>\n",
       "      <td>30.654531</td>\n",
       "      <td>7.211824</td>\n",
       "      <td>NaN</td>\n",
       "      <td>NaN</td>\n",
       "      <td>3946.272827</td>\n",
       "      <td>NaN</td>\n",
       "      <td>NaN</td>\n",
       "    </tr>\n",
       "    <tr>\n",
       "      <th>min</th>\n",
       "      <td>1.00000</td>\n",
       "      <td>NaN</td>\n",
       "      <td>1.666028e+06</td>\n",
       "      <td>0.000000e+00</td>\n",
       "      <td>0.000000</td>\n",
       "      <td>0.000000e+00</td>\n",
       "      <td>0.000000</td>\n",
       "      <td>2000.000000</td>\n",
       "      <td>NaN</td>\n",
       "      <td>NaN</td>\n",
       "      <td>0.000000</td>\n",
       "      <td>NaN</td>\n",
       "      <td>NaN</td>\n",
       "    </tr>\n",
       "    <tr>\n",
       "      <th>25%</th>\n",
       "      <td>50.75000</td>\n",
       "      <td>NaN</td>\n",
       "      <td>2.466220e+07</td>\n",
       "      <td>9.275150e+04</td>\n",
       "      <td>0.200000</td>\n",
       "      <td>1.371034e+07</td>\n",
       "      <td>42.200000</td>\n",
       "      <td>2006.000000</td>\n",
       "      <td>NaN</td>\n",
       "      <td>NaN</td>\n",
       "      <td>205.250000</td>\n",
       "      <td>NaN</td>\n",
       "      <td>NaN</td>\n",
       "    </tr>\n",
       "    <tr>\n",
       "      <th>50%</th>\n",
       "      <td>100.50000</td>\n",
       "      <td>NaN</td>\n",
       "      <td>4.844658e+07</td>\n",
       "      <td>1.798421e+07</td>\n",
       "      <td>37.050000</td>\n",
       "      <td>3.019444e+07</td>\n",
       "      <td>62.950000</td>\n",
       "      <td>2012.000000</td>\n",
       "      <td>NaN</td>\n",
       "      <td>NaN</td>\n",
       "      <td>1035.500000</td>\n",
       "      <td>NaN</td>\n",
       "      <td>NaN</td>\n",
       "    </tr>\n",
       "    <tr>\n",
       "      <th>75%</th>\n",
       "      <td>150.25000</td>\n",
       "      <td>NaN</td>\n",
       "      <td>1.197588e+08</td>\n",
       "      <td>5.386847e+07</td>\n",
       "      <td>57.800000</td>\n",
       "      <td>7.211578e+07</td>\n",
       "      <td>99.800000</td>\n",
       "      <td>2018.000000</td>\n",
       "      <td>NaN</td>\n",
       "      <td>NaN</td>\n",
       "      <td>3065.000000</td>\n",
       "      <td>NaN</td>\n",
       "      <td>NaN</td>\n",
       "    </tr>\n",
       "    <tr>\n",
       "      <th>max</th>\n",
       "      <td>200.00000</td>\n",
       "      <td>NaN</td>\n",
       "      <td>2.799439e+09</td>\n",
       "      <td>9.366622e+08</td>\n",
       "      <td>100.000000</td>\n",
       "      <td>1.993811e+09</td>\n",
       "      <td>100.000000</td>\n",
       "      <td>2024.000000</td>\n",
       "      <td>NaN</td>\n",
       "      <td>NaN</td>\n",
       "      <td>36753.000000</td>\n",
       "      <td>NaN</td>\n",
       "      <td>NaN</td>\n",
       "    </tr>\n",
       "  </tbody>\n",
       "</table>\n",
       "</div>"
      ],
      "text/plain": [
       "              Rank Release Group    $Worldwide     $Domestic   Domestic %  \\\n",
       "count   5000.00000          5000  5.000000e+03  5.000000e+03  5000.000000   \n",
       "unique         NaN          4955           NaN           NaN          NaN   \n",
       "top            NaN          Hero           NaN           NaN          NaN   \n",
       "freq           NaN             4           NaN           NaN          NaN   \n",
       "mean     100.50000           NaN  1.192137e+08  4.472523e+07    35.740620   \n",
       "std       57.74008           NaN  2.005243e+08  7.727026e+07    30.656992   \n",
       "min        1.00000           NaN  1.666028e+06  0.000000e+00     0.000000   \n",
       "25%       50.75000           NaN  2.466220e+07  9.275150e+04     0.200000   \n",
       "50%      100.50000           NaN  4.844658e+07  1.798421e+07    37.050000   \n",
       "75%      150.25000           NaN  1.197588e+08  5.386847e+07    57.800000   \n",
       "max      200.00000           NaN  2.799439e+09  9.366622e+08   100.000000   \n",
       "\n",
       "            $Foreign    Foreign %         Year  Genres  Rating    Vote_Count  \\\n",
       "count   5.000000e+03  5000.000000  5000.000000    4822    4830   4830.000000   \n",
       "unique           NaN          NaN          NaN    1317    1829           NaN   \n",
       "top              NaN          NaN          NaN  Comedy  6.5/10           NaN   \n",
       "freq             NaN          NaN          NaN     286     102           NaN   \n",
       "mean    7.448809e+07    64.256640  2012.000000     NaN     NaN   2531.585921   \n",
       "std     1.334932e+08    30.654531     7.211824     NaN     NaN   3946.272827   \n",
       "min     0.000000e+00     0.000000  2000.000000     NaN     NaN      0.000000   \n",
       "25%     1.371034e+07    42.200000  2006.000000     NaN     NaN    205.250000   \n",
       "50%     3.019444e+07    62.950000  2012.000000     NaN     NaN   1035.500000   \n",
       "75%     7.211578e+07    99.800000  2018.000000     NaN     NaN   3065.000000   \n",
       "max     1.993811e+09   100.000000  2024.000000     NaN     NaN  36753.000000   \n",
       "\n",
       "       Original_Language      Production_Countries  \n",
       "count               4830                      4800  \n",
       "unique                35                       510  \n",
       "top                   en  United States of America  \n",
       "freq                3271                      1964  \n",
       "mean                 NaN                       NaN  \n",
       "std                  NaN                       NaN  \n",
       "min                  NaN                       NaN  \n",
       "25%                  NaN                       NaN  \n",
       "50%                  NaN                       NaN  \n",
       "75%                  NaN                       NaN  \n",
       "max                  NaN                       NaN  "
      ]
     },
     "execution_count": 23,
     "metadata": {},
     "output_type": "execute_result"
    }
   ],
   "source": [
    "df_movies.describe(include='all')"
   ]
  },
  {
   "cell_type": "markdown",
   "id": "978ce91e",
   "metadata": {},
   "source": [
    "# Are there any duplicate rows?"
   ]
  },
  {
   "cell_type": "code",
   "execution_count": null,
   "id": "b2c2834e",
   "metadata": {},
   "outputs": [
    {
     "data": {
      "text/plain": [
       "0"
      ]
     },
     "execution_count": 27,
     "metadata": {},
     "output_type": "execute_result"
    }
   ],
   "source": [
    "duplicate_rows = df_movies[df_movies.duplicated()]\n",
    "num_duplicates = len(duplicate_rows)\n",
    "num_duplicates"
   ]
  },
  {
   "cell_type": "markdown",
   "id": "8dcf90bc",
   "metadata": {},
   "source": [
    "No duplicates rows"
   ]
  },
  {
   "cell_type": "markdown",
   "id": "4d5538a6",
   "metadata": {},
   "source": [
    "# Are there any duplicate values in a given column (when this would be inappropriate?)"
   ]
  },
  {
   "cell_type": "code",
   "execution_count": null,
   "id": "6a56544b",
   "metadata": {},
   "outputs": [
    {
     "data": {
      "text/plain": [
       "{'Rank': Rank\n",
       " 1    25\n",
       " 2    25\n",
       " 3    25\n",
       " Name: count, dtype: int64,\n",
       " 'Release Group': Release Group\n",
       " Hero                   4\n",
       " Together               2\n",
       " You Are My Sunshine    2\n",
       " Name: count, dtype: int64,\n",
       " '$Worldwide': $Worldwide\n",
       " 32800000.0    2\n",
       " Name: count, dtype: int64,\n",
       " '$Domestic': $Domestic\n",
       " 0.0    1178\n",
       " Name: count, dtype: int64,\n",
       " 'Domestic %': Domestic %\n",
       " 0.0      1226\n",
       " 100.0      49\n",
       " 0.5        29\n",
       " Name: count, dtype: int64,\n",
       " '$Foreign': $Foreign\n",
       " 0.0          43\n",
       " 8200000.0     3\n",
       " 8700000.0     2\n",
       " Name: count, dtype: int64,\n",
       " 'Foreign %': Foreign %\n",
       " 100.0    1201\n",
       " 0.0        52\n",
       " 99.9       31\n",
       " Name: count, dtype: int64,\n",
       " 'Year': Year\n",
       " 2000    200\n",
       " 2001    200\n",
       " 2002    200\n",
       " Name: count, dtype: int64,\n",
       " 'Genres': Genres\n",
       " Comedy             286\n",
       " Drama              214\n",
       " Comedy, Romance    169\n",
       " Name: count, dtype: int64,\n",
       " 'Rating': Rating\n",
       " 6.5/10    102\n",
       " 6.7/10    101\n",
       " 6.3/10    100\n",
       " Name: count, dtype: int64,\n",
       " 'Vote_Count': Vote_Count\n",
       " 0.0     25\n",
       " 5.0     20\n",
       " 10.0    19\n",
       " Name: count, dtype: int64,\n",
       " 'Original_Language': Original_Language\n",
       " en    3271\n",
       " ja     369\n",
       " zh     280\n",
       " Name: count, dtype: int64,\n",
       " 'Production_Countries': Production_Countries\n",
       " United States of America                    1964\n",
       " Japan                                        357\n",
       " United Kingdom, United States of America     217\n",
       " Name: count, dtype: int64}"
      ]
     },
     "execution_count": 30,
     "metadata": {},
     "output_type": "execute_result"
    }
   ],
   "source": [
    "duplicate_values_summary = {}\n",
    "\n",
    "for column in df_movies.columns:\n",
    "    value_counts = df_movies[column].value_counts()\n",
    "    duplicate_values = value_counts[value_counts > 1]\n",
    "    if not duplicate_values.empty:\n",
    "        duplicate_values_summary[column] = duplicate_values.head(3)\n",
    "duplicate_values_summary"
   ]
  },
  {
   "cell_type": "markdown",
   "id": "5dab64ab",
   "metadata": {},
   "source": [
    "rank should be unique per movie"
   ]
  },
  {
   "cell_type": "markdown",
   "id": "dc3c053d",
   "metadata": {},
   "source": [
    "# What are the mean, median, and mode of each column?"
   ]
  },
  {
   "cell_type": "code",
   "execution_count": null,
   "id": "980e272a",
   "metadata": {},
   "outputs": [],
   "source": [
    "mean_values = df_movies.mean(numeric_only=True)\n",
    "median_values = df_movies.median(numeric_only=True)\n",
    "mode_values = df_movies.mode(numeric_only=True).iloc[0]"
   ]
  },
  {
   "cell_type": "markdown",
   "id": "aa4091f0",
   "metadata": {},
   "source": [
    "#  Are there any missing or null values?\n",
    "\n",
    "    - Do you want to fill in the missing value with a mean value?  A value of your choice?  Remove that row?"
   ]
  },
  {
   "cell_type": "code",
   "execution_count": null,
   "id": "26196e75",
   "metadata": {},
   "outputs": [
    {
     "data": {
      "text/plain": [
       "Rank                      0\n",
       "Release Group             0\n",
       "$Worldwide                0\n",
       "$Domestic                 0\n",
       "Domestic %                0\n",
       "$Foreign                  0\n",
       "Foreign %                 0\n",
       "Year                      0\n",
       "Genres                  178\n",
       "Rating                  170\n",
       "Vote_Count              170\n",
       "Original_Language       170\n",
       "Production_Countries    200\n",
       "dtype: int64"
      ]
     },
     "execution_count": 35,
     "metadata": {},
     "output_type": "execute_result"
    }
   ],
   "source": [
    "df_movies.isnull().sum()"
   ]
  },
  {
   "cell_type": "code",
   "execution_count": null,
   "id": "a10cb3ec",
   "metadata": {},
   "outputs": [
    {
     "data": {
      "text/html": [
       "<div>\n",
       "<style scoped>\n",
       "    .dataframe tbody tr th:only-of-type {\n",
       "        vertical-align: middle;\n",
       "    }\n",
       "\n",
       "    .dataframe tbody tr th {\n",
       "        vertical-align: top;\n",
       "    }\n",
       "\n",
       "    .dataframe thead th {\n",
       "        text-align: right;\n",
       "    }\n",
       "</style>\n",
       "<table border=\"1\" class=\"dataframe\">\n",
       "  <thead>\n",
       "    <tr style=\"text-align: right;\">\n",
       "      <th></th>\n",
       "      <th>Rank</th>\n",
       "      <th>Release Group</th>\n",
       "      <th>$Worldwide</th>\n",
       "      <th>$Domestic</th>\n",
       "      <th>Domestic %</th>\n",
       "      <th>$Foreign</th>\n",
       "      <th>Foreign %</th>\n",
       "      <th>Year</th>\n",
       "      <th>Genres</th>\n",
       "      <th>Rating</th>\n",
       "      <th>Vote_Count</th>\n",
       "      <th>Original_Language</th>\n",
       "      <th>Production_Countries</th>\n",
       "    </tr>\n",
       "  </thead>\n",
       "  <tbody>\n",
       "    <tr>\n",
       "      <th>0</th>\n",
       "      <td>1</td>\n",
       "      <td>Mission: Impossible II</td>\n",
       "      <td>546388108.0</td>\n",
       "      <td>215409889.0</td>\n",
       "      <td>39.4</td>\n",
       "      <td>330978219.0</td>\n",
       "      <td>60.6</td>\n",
       "      <td>2000</td>\n",
       "      <td>Adventure, Action, Thriller</td>\n",
       "      <td>6.126/10</td>\n",
       "      <td>6741.0</td>\n",
       "      <td>en</td>\n",
       "      <td>United States of America</td>\n",
       "    </tr>\n",
       "    <tr>\n",
       "      <th>1</th>\n",
       "      <td>2</td>\n",
       "      <td>Gladiator</td>\n",
       "      <td>460583960.0</td>\n",
       "      <td>187705427.0</td>\n",
       "      <td>40.8</td>\n",
       "      <td>272878533.0</td>\n",
       "      <td>59.2</td>\n",
       "      <td>2000</td>\n",
       "      <td>Action, Drama, Adventure</td>\n",
       "      <td>8.217/10</td>\n",
       "      <td>19032.0</td>\n",
       "      <td>en</td>\n",
       "      <td>United Kingdom, United States of America</td>\n",
       "    </tr>\n",
       "    <tr>\n",
       "      <th>2</th>\n",
       "      <td>3</td>\n",
       "      <td>Cast Away</td>\n",
       "      <td>429632142.0</td>\n",
       "      <td>233632142.0</td>\n",
       "      <td>54.4</td>\n",
       "      <td>196000000.0</td>\n",
       "      <td>45.6</td>\n",
       "      <td>2000</td>\n",
       "      <td>Adventure, Drama</td>\n",
       "      <td>7.663/10</td>\n",
       "      <td>11403.0</td>\n",
       "      <td>en</td>\n",
       "      <td>United States of America</td>\n",
       "    </tr>\n",
       "    <tr>\n",
       "      <th>3</th>\n",
       "      <td>4</td>\n",
       "      <td>What Women Want</td>\n",
       "      <td>374111707.0</td>\n",
       "      <td>182811707.0</td>\n",
       "      <td>48.9</td>\n",
       "      <td>191300000.0</td>\n",
       "      <td>51.1</td>\n",
       "      <td>2000</td>\n",
       "      <td>Comedy, Romance</td>\n",
       "      <td>6.45/10</td>\n",
       "      <td>3944.0</td>\n",
       "      <td>en</td>\n",
       "      <td>United Kingdom, United States of America</td>\n",
       "    </tr>\n",
       "    <tr>\n",
       "      <th>4</th>\n",
       "      <td>5</td>\n",
       "      <td>Dinosaur</td>\n",
       "      <td>349822765.0</td>\n",
       "      <td>137748063.0</td>\n",
       "      <td>39.4</td>\n",
       "      <td>212074702.0</td>\n",
       "      <td>60.6</td>\n",
       "      <td>2000</td>\n",
       "      <td>Animation, Family, Adventure</td>\n",
       "      <td>6.544/10</td>\n",
       "      <td>2530.0</td>\n",
       "      <td>en</td>\n",
       "      <td>United States of America</td>\n",
       "    </tr>\n",
       "    <tr>\n",
       "      <th>...</th>\n",
       "      <td>...</td>\n",
       "      <td>...</td>\n",
       "      <td>...</td>\n",
       "      <td>...</td>\n",
       "      <td>...</td>\n",
       "      <td>...</td>\n",
       "      <td>...</td>\n",
       "      <td>...</td>\n",
       "      <td>...</td>\n",
       "      <td>...</td>\n",
       "      <td>...</td>\n",
       "      <td>...</td>\n",
       "      <td>...</td>\n",
       "    </tr>\n",
       "    <tr>\n",
       "      <th>4995</th>\n",
       "      <td>196</td>\n",
       "      <td>Devara Part 1</td>\n",
       "      <td>7361414.0</td>\n",
       "      <td>5600000.0</td>\n",
       "      <td>76.1</td>\n",
       "      <td>1761414.0</td>\n",
       "      <td>23.9</td>\n",
       "      <td>2024</td>\n",
       "      <td>Action, Drama</td>\n",
       "      <td>7.0/10</td>\n",
       "      <td>30.0</td>\n",
       "      <td>te</td>\n",
       "      <td>India</td>\n",
       "    </tr>\n",
       "    <tr>\n",
       "      <th>4996</th>\n",
       "      <td>197</td>\n",
       "      <td>Kolpaçino 4 4'lük</td>\n",
       "      <td>7343114.0</td>\n",
       "      <td>0.0</td>\n",
       "      <td>0.0</td>\n",
       "      <td>7343114.0</td>\n",
       "      <td>100.0</td>\n",
       "      <td>2024</td>\n",
       "      <td>Comedy</td>\n",
       "      <td>4.0/10</td>\n",
       "      <td>4.0</td>\n",
       "      <td>tr</td>\n",
       "      <td>Turkey</td>\n",
       "    </tr>\n",
       "    <tr>\n",
       "      <th>4997</th>\n",
       "      <td>198</td>\n",
       "      <td>Lim Young Woong: Im Hero the Stadium</td>\n",
       "      <td>7305588.0</td>\n",
       "      <td>0.0</td>\n",
       "      <td>0.0</td>\n",
       "      <td>7305588.0</td>\n",
       "      <td>100.0</td>\n",
       "      <td>2024</td>\n",
       "      <td>Music, Documentary</td>\n",
       "      <td>0.0/10</td>\n",
       "      <td>0.0</td>\n",
       "      <td>ko</td>\n",
       "      <td>South Korea</td>\n",
       "    </tr>\n",
       "    <tr>\n",
       "      <th>4998</th>\n",
       "      <td>199</td>\n",
       "      <td>Yolo</td>\n",
       "      <td>7241561.0</td>\n",
       "      <td>2001584.0</td>\n",
       "      <td>27.6</td>\n",
       "      <td>5239977.0</td>\n",
       "      <td>72.4</td>\n",
       "      <td>2024</td>\n",
       "      <td>Drama, Comedy, Action</td>\n",
       "      <td>6.3/10</td>\n",
       "      <td>70.0</td>\n",
       "      <td>zh</td>\n",
       "      <td>China</td>\n",
       "    </tr>\n",
       "    <tr>\n",
       "      <th>4999</th>\n",
       "      <td>200</td>\n",
       "      <td>Sight</td>\n",
       "      <td>7206741.0</td>\n",
       "      <td>7206741.0</td>\n",
       "      <td>100.0</td>\n",
       "      <td>0.0</td>\n",
       "      <td>0.0</td>\n",
       "      <td>2024</td>\n",
       "      <td>Drama, History</td>\n",
       "      <td>6.0/10</td>\n",
       "      <td>23.0</td>\n",
       "      <td>en</td>\n",
       "      <td>United States of America</td>\n",
       "    </tr>\n",
       "  </tbody>\n",
       "</table>\n",
       "<p>4797 rows × 13 columns</p>\n",
       "</div>"
      ],
      "text/plain": [
       "      Rank                         Release Group   $Worldwide    $Domestic  \\\n",
       "0        1                Mission: Impossible II  546388108.0  215409889.0   \n",
       "1        2                             Gladiator  460583960.0  187705427.0   \n",
       "2        3                             Cast Away  429632142.0  233632142.0   \n",
       "3        4                       What Women Want  374111707.0  182811707.0   \n",
       "4        5                              Dinosaur  349822765.0  137748063.0   \n",
       "...    ...                                   ...          ...          ...   \n",
       "4995   196                         Devara Part 1    7361414.0    5600000.0   \n",
       "4996   197                     Kolpaçino 4 4'lük    7343114.0          0.0   \n",
       "4997   198  Lim Young Woong: Im Hero the Stadium    7305588.0          0.0   \n",
       "4998   199                                  Yolo    7241561.0    2001584.0   \n",
       "4999   200                                 Sight    7206741.0    7206741.0   \n",
       "\n",
       "      Domestic %     $Foreign  Foreign %  Year                        Genres  \\\n",
       "0           39.4  330978219.0       60.6  2000   Adventure, Action, Thriller   \n",
       "1           40.8  272878533.0       59.2  2000      Action, Drama, Adventure   \n",
       "2           54.4  196000000.0       45.6  2000              Adventure, Drama   \n",
       "3           48.9  191300000.0       51.1  2000               Comedy, Romance   \n",
       "4           39.4  212074702.0       60.6  2000  Animation, Family, Adventure   \n",
       "...          ...          ...        ...   ...                           ...   \n",
       "4995        76.1    1761414.0       23.9  2024                 Action, Drama   \n",
       "4996         0.0    7343114.0      100.0  2024                        Comedy   \n",
       "4997         0.0    7305588.0      100.0  2024            Music, Documentary   \n",
       "4998        27.6    5239977.0       72.4  2024         Drama, Comedy, Action   \n",
       "4999       100.0          0.0        0.0  2024                Drama, History   \n",
       "\n",
       "        Rating  Vote_Count Original_Language  \\\n",
       "0     6.126/10      6741.0                en   \n",
       "1     8.217/10     19032.0                en   \n",
       "2     7.663/10     11403.0                en   \n",
       "3      6.45/10      3944.0                en   \n",
       "4     6.544/10      2530.0                en   \n",
       "...        ...         ...               ...   \n",
       "4995    7.0/10        30.0                te   \n",
       "4996    4.0/10         4.0                tr   \n",
       "4997    0.0/10         0.0                ko   \n",
       "4998    6.3/10        70.0                zh   \n",
       "4999    6.0/10        23.0                en   \n",
       "\n",
       "                          Production_Countries  \n",
       "0                     United States of America  \n",
       "1     United Kingdom, United States of America  \n",
       "2                     United States of America  \n",
       "3     United Kingdom, United States of America  \n",
       "4                     United States of America  \n",
       "...                                        ...  \n",
       "4995                                     India  \n",
       "4996                                    Turkey  \n",
       "4997                               South Korea  \n",
       "4998                                     China  \n",
       "4999                  United States of America  \n",
       "\n",
       "[4797 rows x 13 columns]"
      ]
     },
     "execution_count": 40,
     "metadata": {},
     "output_type": "execute_result"
    }
   ],
   "source": [
    "df_clean=df_movies.dropna()\n",
    "df_clean"
   ]
  },
  {
   "cell_type": "markdown",
   "id": "72a6cca3",
   "metadata": {},
   "source": [
    "# Identify any other inconsistent data (e.g. someone seems to be taking an action before they are born.)\n"
   ]
  },
  {
   "cell_type": "code",
   "execution_count": null,
   "id": "1d7ee1f1",
   "metadata": {},
   "outputs": [
    {
     "data": {
      "text/plain": [
       "4797"
      ]
     },
     "execution_count": 46,
     "metadata": {},
     "output_type": "execute_result"
    }
   ],
   "source": [
    "#Check for duplicate ranks \n",
    "duplicate_ranks = df_clean[df_clean.duplicated(subset=[\"Rank\"], keep=False)]\n",
    "len(duplicate_ranks)"
   ]
  },
  {
   "cell_type": "markdown",
   "id": "a96742e9",
   "metadata": {},
   "source": [
    "# Encode any categorical variables (e.g. with one-hot encoding.)"
   ]
  },
  {
   "cell_type": "code",
   "execution_count": null,
   "id": "402e3af8",
   "metadata": {},
   "outputs": [],
   "source": [
    "categorical_columns = [\"Genres\", \"Rating\", \"Original_Language\", \"Production_Countries\"]\n",
    "df_encoded = pd.get_dummies(df_clean, columns=categorical_columns, drop_first=False)"
   ]
  },
  {
   "cell_type": "markdown",
   "id": "36d9e7a0",
   "metadata": {},
   "source": [
    "### Conclusions:\n",
    "\n",
    "- Are the data usable?  If not, find some new data!\n",
    "\n",
    "- Do you need to modify or correct the data in some way?\n",
    "\n",
    "- Is there any class imbalance?  (Categories that have many more items than other categories)."
   ]
  },
  {
   "cell_type": "markdown",
   "id": "15426a23",
   "metadata": {},
   "source": [
    "#yes data is usable as its clean and structured\n",
    "#some needs modification like ranks \n",
    "#there is class imbalance in language ,rating"
   ]
  },
  {
   "cell_type": "markdown",
   "id": "abab9e6d-18cc-4863-b980-3e52f581763a",
   "metadata": {},
   "source": [
    "# 4. Storytelling With Data graph"
   ]
  },
  {
   "cell_type": "markdown",
   "id": "1911148d-9df6-4b33-a875-8c96408ec834",
   "metadata": {},
   "source": [
    "Just like last week: choose any graph in the Introduction of Storytelling With Data. Use matplotlib to reproduce it in a rough way. I don't expect you to spend an enormous amount of time on this; I understand that you likely will not have time to re-create every feature of the graph. However, if you're excited about learning to use matplotlib, this is a good way to do that. You don't have to duplicate the exact values on the graph; just the same rough shape will be enough.  If you don't feel comfortable using matplotlib yet, do the best you can and write down what you tried or what Google searches you did to find the answers."
   ]
  },
  {
   "cell_type": "markdown",
   "id": "3445ee09",
   "metadata": {},
   "source": [
    "ans:lets see relationship between release year affects its box office success"
   ]
  },
  {
   "cell_type": "code",
   "execution_count": null,
   "id": "8b2888f9-3700-45ab-9829-6a5372106f9f",
   "metadata": {},
   "outputs": [
    {
     "data": {
      "image/png": "[encoded data removed]",
      "text/plain": [
       "<Figure size 1400x600 with 1 Axes>"
      ]
     },
     "metadata": {},
     "output_type": "display_data"
    }
   ],
   "source": [
    "df = df_clean\n",
    "plt.figure(figsize=(14, 6))\n",
    "plt.subplot(1, 2, 1)\n",
    "plt.scatter(df[\"Year\"], df[\"$Worldwide\"], alpha=0.4)\n",
    "plt.title(\"Worldwide Revenue by Release Year\")\n",
    "plt.xlabel(\"Release Year\")\n",
    "plt.ylabel(\"Worldwide Box Office ($)\")\n",
    "plt.grid(True)"
   ]
  },
  {
   "cell_type": "code",
   "execution_count": null,
   "id": "290bf3a7",
   "metadata": {},
   "outputs": [
    {
     "data": {
      "image/png": "[encoded data removed]",
      "text/plain": [
       "<Figure size 640x480 with 1 Axes>"
      ]
     },
     "metadata": {},
     "output_type": "display_data"
    }
   ],
   "source": [
    "plt.subplot(1, 2, 2)\n",
    "plt.hist(df[\"$Worldwide\"], bins=40, edgecolor='black', alpha=0.7)\n",
    "plt.title(\"Distribution of Worldwide Box Office Revenue\")\n",
    "plt.xlabel(\"Worldwide Revenue ($)\")\n",
    "plt.ylabel(\"Number of Movies\")\n",
    "plt.grid(True)\n",
    "\n",
    "plt.tight_layout()\n",
    "plt.show()"
   ]
  }
 ],
 "metadata": {
  "kernelspec": {
   "display_name": "Python 3",
   "language": "python",
   "name": "python3"
  },
  "language_info": {
   "codemirror_mode": {
    "name": "ipython",
    "version": 3
   },
   "file_extension": ".py",
   "mimetype": "text/x-python",
   "name": "python",
   "nbconvert_exporter": "python",
   "pygments_lexer": "ipython3",
   "version": "3.12.1"
  }
 },
 "nbformat": 4,
 "nbformat_minor": 5
}
